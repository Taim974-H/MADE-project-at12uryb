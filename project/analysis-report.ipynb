{
 "cells": [
  {
   "cell_type": "markdown",
   "id": "25c87860",
   "metadata": {},
   "source": [
    "\n",
    "## Investigating Trends in NMVOC Emissions in Ireland: Establishing a Baseline for Climate Action\n",
    "\n",
    "In the context of Ireland's commitment to climate action, as evidenced by the Climate Action and Low Carbon Development (Amendment) Act 2021, this project focuses on Non-methane Volatile Organic Compounds (NMVOC) emissions. The project aims to establish a baseline by examining historical trends in NMVOC emissions in Ireland prior to the Act's implementation.\n",
    "\n",
    "NMVOCs are a critical area of study due to their multifaceted impact. They contribute not only to climate change but also pose a threat to human health and agricultural productivity. By analyzing historical data on NMVOC emissions and waste generation, the project seeks to identify potential correlations between these factors. This analysis will provide valuable insights for policymakers as they develop strategies to achieve the ambitious goals outlined in the Act. This project will contribute to Ireland's climate action efforts in the following ways:\n",
    "\n",
    "- **Establishing a Baseline:** By identifying trends from historical data, the project creates a benchmark for future comparisons, allowing for effective measurement of progress towards NMVOC emission reduction targets.\n",
    "- **Identifying Key Sources:** Understanding the relationship between waste generation and NMVOC emissions will help pinpoint sectors or activities that require the most significant emission reduction efforts.\n",
    "- **Optimizing Waste Management Strategies:** Evaluating the balance between waste generation and treatment can inform the development of more sustainable waste management practices, potentially leading to further reductions in NMVOC emissions."
   ]
  },
  {
   "cell_type": "markdown",
   "id": "07113c19",
   "metadata": {},
   "source": [
    "### Datasources\n",
    "\n",
    "#### GWA01 and GWA02 (Irish Government Website):\n",
    "| Datasource1: Generation of waste (GWA01)                       | Datasource2: Treatment of waste (GWA02)               |\n",
    "| :------------------------------------------------------------- | :---------------------------------------------------- |\n",
    "| Metadata URL: [data.gov.ie](https://data.gov.ie/)              | Metadata URL: [data.gov.ie](https://data.gov.ie/)     |\n",
    "| Data URL: [GWA01 CSV](https://ws.cso.ie/public/api.restful/PxStat.Data.Cube_API.ReadDataset/GWA01/CSV/1.0/en) | Data URL: [GWA02 CSV](https://ws.cso.ie/public/api.restful/PxStat.Data.Cube_API.ReadDataset/GWA02/CSV/1.0/en) |\n",
    "| Data Type: CSV                                                 | Data Type: CSV                                        |\n",
    "| Published by: Central Statistics Office                        | Published by: Central Statistics Office               |\n",
    "| Licensed under: Creative Commons Attribution 4.0               | Licensed under: Creative Commons Attribution 4.0      |\n",
    "\n",
    "\n",
    "These datasets are sourced from the Irish government's website. The first dataset provides information on the generation of waste categorized by different types of waste from 2004 to 2020. The second dataset details the treatment of waste, including various waste management operations over the same period.\n",
    "\n",
    "\n",
    "#### EDGAR v6.1:\n",
    "#### Datasource3: NMVOC emissions (NMVOC from EDGARv6.1)\n",
    "\n",
    "> * Metadata URL: https://edgar.jrc.ec.europa.eu/index.php/dataset_ap61\n",
    "> * Data URL: https://jeodpp.jrc.ec.europa.eu/ftp/jrc-opendata/EDGAR/datasets/v61_AP/NMVOC/v61_AP_NMVOC_1970_2018b.zip\n",
    "> * Data Type: xlsx\n",
    "> * Format Extensible Markup Language (XML) file (within a zip archive)\n",
    "> * Condition of data use: Users of the data are obliged to acknowledge the source of the data with a reference to the EDGARv6.1 air pollutant website (Metadata URL).\n",
    "\n",
    "This dataset is part of a larger dataset, EDGARv6.1. The study focuses on NMVOC emission time series (1970-2018) by sector and country and the data provided in an overview table (.xls). Emission country totals are expressed in kt substance/year and the IPCC 1996 and 2006 codes are used for specification of the sectors.\n",
    "\n",
    "#### Key Differences\n",
    "\n",
    "* GWA01 and GWA02 provide detailed waste treatment data specific to Ireland, downloaded directly from a government website.\n",
    "* EDGAR v6.1 offers broader emissions data, including NMVOCs, for various countries and sectors, but requires extraction from a zipped archive.\n",
    "\n",
    "**Data usage:**\n",
    "The data utilized in this research was sourced under the Creative Commons Attribution 4.0 license. Additionally, we adhered to the condition of data use by acknowledging the source of the data with a reference to the EDGARv6.1 air pollutant website (mentioned above).  It is important to note that this data was used solely for research purposes and not for any commercial activities."
   ]
  },
  {
   "cell_type": "markdown",
   "id": "4a636b79",
   "metadata": {},
   "source": [
    "### Data Pipeline\n",
    "**Technology Stack:**\n",
    "\n",
    "* Python: The primary programming language for scripting and data manipulation.\n",
    "* Libraries: Potential libraries used could include pandas (data manipulation), zipfile (handling zip archives), and sqlite3 (creating and interacting with SQLite databases).\n",
    "\n",
    "<img src=\"datapipelinevisual.png\" alt=\"Data Pipeline Visual\" width=\"600\" height=\"400\">\n",
    "\n",
    "**Data Processing Steps:**\n",
    "\n",
    "1. **Data Acquisition:**\n",
    "    * The pipeline initializes with data source information such as URL, name, and output directory.\n",
    "    * Based on the source format (e.g., zip, CSV), the pipeline employs appropriate methods to retrieve the data.\n",
    "        * For zipped data, it extracts the relevant file (XLSX in our case) and converts it into a pandas DataFrame.\n",
    "        * For CSV files, it directly reads them into a pandas DataFrame.\n",
    "2. **Data Cleaning and Transformation:**\n",
    "    * The pipeline performs initial cleaning to remove extraneous headers or rows not part of the actual data.\n",
    "    * Data is then transformed into a structured format using pandas DataFrames. This allows for data exploration and visualization.\n",
    "    * Unwanted columns are dropped, and relevant columns are renamed for clarity.\n",
    "    * Rows with missing values are removed to ensure data quality for analysis.\n",
    "3. **Data Storage:**\n",
    "    * The preprocessed data is used to create a SQLite database for efficient storage and querying for future use.\n",
    "\n",
    "While initial data cleaning focuses on generic steps, the pipeline acknowledges the potential for variation across datasets. To handle this, specific filtering of rows and columns is applied after the general cleaning stage and before creating the SQLite database. This approach ensures the final dataset remains consistent as long as the source data format stays the same (no new columns are added)."
   ]
  },
  {
   "cell_type": "markdown",
   "id": "2a0b5aaa",
   "metadata": {},
   "source": [
    "### Result and Limitations\n",
    "\n",
    "This project's data pipeline delivers structured datasets suitable for further analysis. The data focuses on waste management and NMVOC emissions in Ireland and is stored in SQLite files for efficient querying and analysis.\n",
    "\n",
    "* **Format:** Structured Data (SQLite)\n",
    "* **Data Quality:**\n",
    "    * Accuracy: High. (Data is obtained from reliable sources and is not synthetic.)\n",
    "    * Completeness: Medium (potential for incompleteness)\n",
    "    * Consistency: High\n",
    "    * Timeliness: Date range for our study is between 2004 to 2018. However, it would be more efficient to have more recent data.\n",
    "    * Relevance: High (directly relevant to NMVOC emissions analysis)\n",
    "* **Benefits of SQLite:**\n",
    "    * Lightweight and portable database format. Easy to use and share with collaborators. Efficient querying and analysis using SQL.\n",
    "\n",
    "**Data Considerations:**\n",
    "\n",
    "The data might not be entirely comprehensive. Dataset for waste generation and treatment carries information from year 2004 to 2018 which might not be enough to draw solid conclusions about current state of ireland waste management, but it is enough to give a rough estimation on projection of trends. Though the datasets might seem separate at first, combining them for meaningful analysis is possible. NMVOC emissions from year 2004 to 2018 show promising trends throughout different sectors and that could be combined with waste generation and treatment to conclude how much does the waste sector contribute to NMVOC emissions.\n",
    "\n",
    "**Addressing Limitations:**\n",
    "\n",
    "Obtaining direct download links for the required datasets proved to be a hurdle. Many websites hosting large datasets often mandate user registration. While Selenium automation was considered for scraping the data, the complexity of the webpages involved made it time-prohibitive relative to the potential output. Data range between 2004 to 2018. Having data after 2021 would give insight to effectiveness of ireland's efforts in reducing greenhouse gases."
   ]
  },
  {
   "cell_type": "markdown",
   "id": "79a8ea15",
   "metadata": {},
   "source": [
    "### Output graphs showing trends in data\n",
    "\n",
    "<div style=\"display: flex; flex-wrap: wrap; justify-content: space-around;\">\n",
    "    <img src=\"trendTNMVOCIRE.png\" alt=\"Trend of Total NMVOC Emissions and Waste Sector Emissions\" style=\"width: 400px; height: 300px; margin: 10px;\">\n",
    "    <img src=\"comparsonTwasteGENandTRE.png\" alt=\"Comparison of Total Waste Generation and Treatment Over Time\" style=\"width: 400px; height: 300px; margin: 10px;\">\n",
    "</div>\n",
    "\n",
    "<img src=\"heatmap-of-ireland-dataoveryears-emissionsector.png\" alt=\"Heatmap of Ireland Data Over Years - Emission Sector\" style=\"width: 400px; height: 300px; margin: 10px;\">"
   ]
  },
  {
   "cell_type": "markdown",
   "id": "c34d035a",
   "metadata": {},
   "source": [
    "More detailed analysis on emission data from waste can be found at: https://www.epa.ie/our-services/monitoring--assessment/waste/national-waste-statistics/"
   ]
  }
 ],
 "metadata": {
  "hide_input": true,
  "kernelspec": {
   "display_name": "Python 3 (ipykernel)",
   "language": "python",
   "name": "python3"
  },
  "language_info": {
   "codemirror_mode": {
    "name": "ipython",
    "version": 3
   },
   "file_extension": ".py",
   "mimetype": "text/x-python",
   "name": "python",
   "nbconvert_exporter": "python",
   "pygments_lexer": "ipython3",
   "version": "3.9.13"
  }
 },
 "nbformat": 4,
 "nbformat_minor": 5
}
