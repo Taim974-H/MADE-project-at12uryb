{
 "cells": [
  {
   "cell_type": "code",
   "execution_count": null,
   "id": "ea8b5277",
   "metadata": {},
   "outputs": [],
   "source": [
    "import requests\n",
    "import os\n",
    "import pandas as pd\n",
    "import numpy as np\n",
    "import sqlite3\n",
    "from io import BytesIO\n",
    "from urllib.request import urlopen\n",
    "from zipfile import ZipFile\n",
    "import sqlite3\n",
    "import matplotlib.pyplot as plt\n",
    "import seaborn as sns\n"
   ]
  },
  {
   "cell_type": "code",
   "execution_count": null,
   "id": "4af16842",
   "metadata": {},
   "outputs": [],
   "source": [
    "data_url1 = 'https://jeodpp.jrc.ec.europa.eu/ftp/jrc-opendata/EDGAR/datasets/v61_AP/NMVOC/v61_AP_NMVOC_1970_2018b.zip'\n",
    "data_name1 = 'emissions'"
   ]
  },
  {
   "cell_type": "code",
   "execution_count": null,
   "id": "8ea98f7d",
   "metadata": {},
   "outputs": [],
   "source": [
    "data_url2 = 'https://ws.cso.ie/public/api.restful/PxStat.Data.Cube_API.ReadDataset/GWA02/CSV/1.0/en'\n",
    "data_name2 = 'treat_waste'"
   ]
  },
  {
   "cell_type": "code",
   "execution_count": null,
   "id": "601b6ac3",
   "metadata": {},
   "outputs": [],
   "source": [
    "data_url3 = 'https://ws.cso.ie/public/api.restful/PxStat.Data.Cube_API.ReadDataset/GWA01/CSV/1.0/en'\n",
    "data_name3 = 'generate_waste'"
   ]
  },
  {
   "cell_type": "code",
   "execution_count": null,
   "id": "5938d889",
   "metadata": {},
   "outputs": [],
   "source": [
    "data_dir = 'data'\n",
    "if not os.path.exists(data_dir):\n",
    "    os.makedirs(data_dir)\n",
    "    print(f\"Directory '{data_dir}' created.\")"
   ]
  },
  {
   "cell_type": "code",
   "execution_count": null,
   "id": "e175f70f",
   "metadata": {},
   "outputs": [],
   "source": [
    "df_xls=None\n",
    "\n",
    "with urlopen(data_url1) as zipresp:\n",
    "    with ZipFile(BytesIO(zipresp.read())) as zfile:\n",
    "        for file in zfile.namelist():\n",
    "            if not file.endswith('_readme.html'):\n",
    "#                 zfile.extract(member=file, path=data_dir)\n",
    "#                 os.rename(os.path.join(data_dir, file), os.path.join(data_dir, 'NMVOC_emissions.xlsx')) \n",
    "#                 print(f\"File '{file}' extracted and renamed.\")\n",
    "                with zfile.open(file) as excel_file_content:\n",
    "                       df_xls = pd.read_excel(excel_file_content,skiprows=9)\n",
    "            \n",
    "print('zip file imported and created draframe from xlsx file')\n",
    "df_xls.head()\n"
   ]
  },
  {
   "cell_type": "code",
   "execution_count": null,
   "id": "52a87545",
   "metadata": {},
   "outputs": [],
   "source": [
    "columns_to_keep = ['ipcc_code_2006_for_standard_report_name'] + [f'Y_{year}' for year in range(2004, 2019)]\n",
    "columns_to_drop = ['Name','IPCC_annex', 'C_group_IM24_sh', 'Country_code_A3', 'ipcc_code_2006_for_standard_report', 'Substance', 'fossil_bio']\n",
    "\n",
    "# Filter and rename columns\n",
    "IE_rows = df_xls.drop(columns=columns_to_drop).loc[df_xls['Name'] == 'Ireland', columns_to_keep].rename(\n",
    "    columns={'ipcc_code_2006_for_standard_report_name': 'Emission Sector'}\n",
    ")\n",
    "IE_rows.dropna(inplace=True)\n",
    "IE_rows.reset_index(inplace=True, drop =True)\n",
    "\n",
    "IE_rows.head()"
   ]
  },
  {
   "cell_type": "code",
   "execution_count": null,
   "id": "cd071f38",
   "metadata": {},
   "outputs": [],
   "source": [
    "# # for col in IE_rows.columns:\n",
    "# #     print(f\"Unique values in {col}: {IE_rows[col].unique()}\")\n",
    "# unique_emission_sectors_df = pd.DataFrame(IE_rows, columns=['Emission Sector'])\n",
    "# unique_emission_sectors_df"
   ]
  },
  {
   "cell_type": "code",
   "execution_count": null,
   "id": "be929b9d",
   "metadata": {},
   "outputs": [],
   "source": [
    "db_full_path = os.path.join(data_dir, data_name1)\n",
    "db_con1 = sqlite3.connect(db_full_path)\n",
    "IE_rows.to_sql('emissions', db_con1, if_exists='replace', index=False)\n",
    "# db_con1.commit()\n",
    "db_con1.close()"
   ]
  },
  {
   "cell_type": "code",
   "execution_count": null,
   "id": "b20b8185",
   "metadata": {},
   "outputs": [],
   "source": [
    "df_treat = pd.read_csv(data_url2)\n",
    "df_treat.reset_index(inplace=True)\n",
    "\n",
    "columns_to_drop = ['index','STATISTIC', 'Statistic Label', 'TLIST(A1)', 'C04253V05027', 'C04251V05025','C04252V05026','UNIT']\n",
    "\n",
    "df_treat = df_treat.drop(columns=columns_to_drop)\n",
    "df_treat.dropna(inplace=True)\n",
    "# Remove rows with 'total waste' in the 'Waste Category' column\n",
    "df_treat = df_treat[df_treat['Waste Category'] != 'Total waste']\n",
    "df_treat.reset_index(inplace=True, drop =True)\n",
    "df_treat.head()\n",
    "\n",
    "db_full_path = os.path.join(data_dir, data_name2)\n",
    "db_con2 = sqlite3.connect(db_full_path)\n",
    "df_treat.to_sql('treatment', db_con2, if_exists='replace', index=False)\n",
    "# db_con3.commit()\n",
    "db_con2.close()"
   ]
  },
  {
   "cell_type": "code",
   "execution_count": null,
   "id": "8b41af60",
   "metadata": {},
   "outputs": [],
   "source": [
    "df_gen = pd.read_csv(data_url3)\n",
    "df_gen.reset_index(inplace=True)\n",
    "\n",
    "columns_to_drop = ['index','STATISTIC', 'Statistic Label', 'TLIST(A1)', 'C014259V05033', 'C04253V05027','C04251V05025','UNIT']\n",
    "\n",
    "df_gen = df_gen.drop(columns=columns_to_drop)\n",
    "df_gen.dropna(inplace=True)\n",
    "\n",
    "# Remove rows with 'total waste' in the 'Waste Category' column\n",
    "df_gen = df_gen[df_gen['Waste Category'] != 'Total waste']\n",
    "df_gen.reset_index(inplace=True, drop =True)\n",
    "df_gen.head()\n",
    "\n",
    "db_full_path = os.path.join(data_dir, data_name3)\n",
    "db_con3 = sqlite3.connect(db_full_path)\n",
    "df_gen.to_sql('generate', db_con3, if_exists='replace', index=False)\n",
    "# db_con3.commit()\n",
    "db_con3.close()"
   ]
  },
  {
   "cell_type": "code",
   "execution_count": null,
   "id": "ad1a9431",
   "metadata": {},
   "outputs": [],
   "source": [
    "# Calculate the total waste generated for each year\n",
    "total_waste_gen_by_year = df_gen.groupby('Year')['VALUE'].sum()\n",
    "# Calculate the total waste treated for each year\n",
    "total_waste_treat_by_year = df_treat.groupby('Year')['VALUE'].sum()\n",
    "\n",
    "waste_emissions_df = IE_rows[IE_rows['Emission Sector'].isin(['Solid Waste Disposal', \n",
    "                                                             'Incineration and Open Burning of Waste', \n",
    "                                                             'Biological Treatment of Solid Waste'])]\n",
    "# Now, let's calculate the total waste emissions for each year\n",
    "waste_emissions_by_year = waste_emissions_df.iloc[:, 1:].sum()\n",
    "# Now, let's calculate the total emissions for all sectors for each year\n",
    "total_emissions_by_year = IE_rows.iloc[:, 1:].sum()\n",
    "\n",
    "fig, axes = plt.subplots(1, 2, figsize=(16, 6))\n",
    "\n",
    "#trend of total waste generation over time\n",
    "axes[0].plot(total_waste_gen_by_year.index, total_waste_gen_by_year.values, marker='o', linestyle='-', label='Generation')\n",
    "axes[0].plot(total_waste_treat_by_year.index, total_waste_treat_by_year.values, marker='o', linestyle='-', color='red', label='Treatment')\n",
    "axes[0].set_title('Comparison of Total Waste Generation and Treatment Over Time')\n",
    "axes[0].set_xlabel('Year')\n",
    "axes[0].set_ylabel('Total Waste (t)')\n",
    "axes[0].legend()\n",
    "axes[0].grid(True)\n",
    "\n",
    "#trend of total emissions and waste emissions over time\n",
    "axes[1].plot(total_emissions_by_year.index, total_emissions_by_year.values, marker='o', linestyle='-', label='Total Emissions')\n",
    "axes[1].plot(waste_emissions_by_year.index, waste_emissions_by_year.values, marker='o', linestyle='-', label='Waste Sector Emissions')\n",
    "axes[1].set_title('Trend of Total (NMVOC) Emissions and Waste Sector Emissions Over Time')\n",
    "axes[1].set_xlabel('Year')\n",
    "axes[1].set_ylabel('Emissions (t)')\n",
    "axes[1].legend()\n",
    "axes[1].grid(True)\n",
    "axes[1].set_xticks(total_emissions_by_year.index)\n",
    "axes[1].tick_params(axis='x', rotation=45)"
   ]
  },
  {
   "cell_type": "code",
   "execution_count": null,
   "id": "3f7cfa71",
   "metadata": {},
   "outputs": [],
   "source": []
  }
 ],
 "metadata": {
  "kernelspec": {
   "display_name": "Python 3 (ipykernel)",
   "language": "python",
   "name": "python3"
  },
  "language_info": {
   "codemirror_mode": {
    "name": "ipython",
    "version": 3
   },
   "file_extension": ".py",
   "mimetype": "text/x-python",
   "name": "python",
   "nbconvert_exporter": "python",
   "pygments_lexer": "ipython3",
   "version": "3.9.13"
  }
 },
 "nbformat": 4,
 "nbformat_minor": 5
}
